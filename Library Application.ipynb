{
 "cells": [
  {
   "cell_type": "code",
   "execution_count": 48,
   "id": "0ba6b756",
   "metadata": {},
   "outputs": [],
   "source": [
    "from tkinter import *\n",
    "import sqlite3\n",
    "import tkinter.ttk as ttk\n",
    "from tkinter import ttk\n",
    "from tkinter import messagebox as tkMessageBox"
   ]
  },
  {
   "cell_type": "code",
   "execution_count": 49,
   "id": "64af99ac",
   "metadata": {},
   "outputs": [],
   "source": [
    "root = Tk()\n",
    "root.title('A library Application!')\n",
    "\n",
    "# Adding label to Window\n",
    "frame2 = Frame(root,width = 100, height = 50)\n",
    "label1 = Label(frame2,text='...Library Management Application...')\n",
    "label1.pack()\n",
    "frame2.pack(side= 'top')"
   ]
  },
  {
   "cell_type": "code",
   "execution_count": 50,
   "id": "dd257458",
   "metadata": {},
   "outputs": [],
   "source": [
    "def Database():\n",
    "    global conn, cursor\n",
    "    conn = sqlite3.connect('library.db')\n",
    "    cursor = conn.cursor()\n",
    "    cursor.execute('create table if not exists library(mem_id INTEGER PRIMARY KEY AUTOINCREMENT NOT NULL,title TEXT, author TEXT, year INTEGER, isbn INTEGER)')\n",
    "\n",
    "def Create():\n",
    "    \n",
    "    # print('Arr',arr)\n",
    "    if (title.get() == '' or author.get() == '' or year.get() == '' or isbn.get() == '') :\n",
    "        txt_result.config(text = \"Please enter all the fields\", fg = \"red\")\n",
    "        print('Arr',arr)\n",
    "\n",
    "    else :\n",
    "        Database()\n",
    "        arr = [title.get(), author.get(), year.get(), isbn.get()]\n",
    "        print('Arr',arr)\n",
    "        cursor.execute(\"insert into library(title,author,year,isbn) values(?,?,?,?)\",arr)\n",
    "                       \n",
    "\n",
    "        conn.commit()\n",
    "        title.set('')\n",
    "        author.set('')\n",
    "        year.set('')\n",
    "        isbn.set('')\n",
    "\n",
    "        cursor.close()\n",
    "        conn.close()\n",
    "        txt_result.config(text = \"record inserted!\", fg = \"green\")\n",
    "\n",
    "def Read():\n",
    "    tree.delete(*tree.get_children())\n",
    "    Database()\n",
    "    cursor.execute(\"select * from library\")\n",
    "    fetch = cursor.fetchall()\n",
    "    print(\"Fetch\",fetch)\n",
    "    for data in fetch :\n",
    "        print(data)\n",
    "        tree.insert('','end',values = (data[1],data[2],data[3],data[4]))\n",
    "\n",
    "    cursor.close()\n",
    "    txt_result.config(text = \"Successfully fetch data!\",fg = \"black\")\n",
    "\n",
    "def Exit():\n",
    "    result = tkMessageBox.askquestion('Do you want to exit?(y/n)',icon = 'warning')\n",
    "\n",
    "    if result == 'yes':\n",
    "        root.destroy()\n",
    "        exit()\n",
    "\n",
    "\n",
    "# Variable declaration\n",
    "title = StringVar()\n",
    "author = StringVar()\n",
    "year = IntVar()\n",
    "isbn = IntVar()\n",
    "\n"
   ]
  },
  {
   "cell_type": "code",
   "execution_count": 51,
   "id": "4b2d8820",
   "metadata": {},
   "outputs": [],
   "source": [
    "# Library data entry frame\n",
    "frame1 = Frame(root,width = 100, height = 50)\n",
    "label1 = Label(frame1,text='Book title').grid(row = 0, column =0)\n",
    "label2 = Label(frame1,text='Author').grid(row = 1, column =0)\n",
    "label3 = Label(frame1,text='Year').grid(row = 2, column =0)\n",
    "label4 = Label(frame1,text='ISBN').grid(row = 3, column =0)\n",
    "e1 = Entry(frame1,textvariable=title).grid(row = 0,column =1)\n",
    "e2 = Entry(frame1,textvariable=author).grid(row = 1,column =1)\n",
    "e3 = Entry(frame1,textvariable=year).grid(row = 2,column =1)\n",
    "e4 = Entry(frame1,textvariable=isbn).grid(row = 3,column =1)\n",
    "\n",
    "txt_result = Label(frame1)\n",
    "txt_result.grid(row = 5,column =0)\n",
    "\n",
    "\n",
    "\n",
    "\n"
   ]
  },
  {
   "cell_type": "code",
   "execution_count": 52,
   "id": "7cdf20db",
   "metadata": {},
   "outputs": [],
   "source": [
    "# Adding buttons to library frame\n",
    "button1 = Button(frame1,text= 'Display',command = Read).grid(row =4, column=0)\n",
    "button2 = Button(frame1,text= 'Search',state = DISABLED).grid(row =4, column=1)\n",
    "button3 = Button(frame1,text= 'Add',command = Create).grid(row =4, column=2)\n",
    "button4 = Button(frame1,text= 'Issue',state = DISABLED).grid(row =4, column=3)\n",
    "button5 = Button(frame1,text= 'Delete',state = DISABLED).grid(row =4, column=4)\n",
    "button6 = Button(frame1,text= 'exit',command = Exit).grid(row =4, column=5)\n",
    "\n",
    "frame1.pack(side='left')"
   ]
  },
  {
   "cell_type": "code",
   "execution_count": 53,
   "id": "600c406a",
   "metadata": {},
   "outputs": [],
   "source": [
    "# Displaying Database details\n",
    "frame3 = Frame(root,width = 100, height = 50)\n",
    "tree = ttk.Treeview(frame3,columns =(\"Book Title\",'Author','Year','ISBN'),show = 'headings',height=8)\n",
    "tree.heading('Book Title',text = 'Book Title', anchor = W)\n",
    "tree.heading('Author',text = 'Author', anchor = W)\n",
    "tree.heading('Year',text = 'Year', anchor = W)\n",
    "tree.heading('ISBN',text = 'ISBN', anchor = W)\n",
    "tree.column('#0',stretch = NO, minwidth = 100,width=120)\n",
    "tree.column('#1',stretch = NO, minwidth = 100,width=120)\n",
    "tree.column('#2',stretch = NO, minwidth = 100,width=120)\n",
    "tree.column('#3',stretch = NO, minwidth = 100,width=120)\n",
    "frame3.pack(side='right')\n",
    "tree.pack()"
   ]
  },
  {
   "cell_type": "code",
   "execution_count": null,
   "id": "cf514620",
   "metadata": {},
   "outputs": [],
   "source": []
  },
  {
   "cell_type": "code",
   "execution_count": null,
   "id": "525c7557",
   "metadata": {},
   "outputs": [],
   "source": [
    "\n"
   ]
  },
  {
   "cell_type": "code",
   "execution_count": null,
   "id": "e3207d11",
   "metadata": {},
   "outputs": [],
   "source": []
  },
  {
   "cell_type": "code",
   "execution_count": 54,
   "id": "49372d59",
   "metadata": {},
   "outputs": [
    {
     "name": "stdout",
     "output_type": "stream",
     "text": [
      "Arr ['ajkdlsaD', 'ASDASD', 0, 0]\n",
      "Fetch [(1, 'sjfasjf', 'jkfsf', 0, 0), (2, 'fjsafsd', 'adfjadf', 0, 0), (3, 'fjhaf', 'dfjadsf', 2344, 2344), (4, 'ajkdlsaD', 'ASDASD', 0, 0)]\n",
      "(1, 'sjfasjf', 'jkfsf', 0, 0)\n",
      "(2, 'fjsafsd', 'adfjadf', 0, 0)\n",
      "(3, 'fjhaf', 'dfjadsf', 2344, 2344)\n",
      "(4, 'ajkdlsaD', 'ASDASD', 0, 0)\n"
     ]
    },
    {
     "name": "stderr",
     "output_type": "stream",
     "text": [
      "Exception in Tkinter callback\n",
      "Traceback (most recent call last):\n",
      "  File \"C:\\Users\\Rahul\\AppData\\Local\\Programs\\Python\\Python39\\lib\\tkinter\\__init__.py\", line 1885, in __call__\n",
      "    return self.func(*args)\n",
      "  File \"C:\\Users\\Rahul\\AppData\\Local\\Temp\\ipykernel_16012\\518800752.py\", line 49, in Exit\n",
      "    exit()\n",
      "  File \"C:\\Users\\Rahul\\AppData\\Local\\Temp\\ipykernel_16012\\1383705599.py\", line 48, in exit\n",
      "    root.destroy()\n",
      "  File \"C:\\Users\\Rahul\\AppData\\Local\\Programs\\Python\\Python39\\lib\\tkinter\\__init__.py\", line 2305, in destroy\n",
      "    self.tk.call('destroy', self._w)\n",
      "_tkinter.TclError: can't invoke \"destroy\" command: application has been destroyed\n"
     ]
    }
   ],
   "source": [
    "if __name__ == '__main__' :\n",
    "    root.mainloop()"
   ]
  },
  {
   "cell_type": "code",
   "execution_count": null,
   "id": "027250df",
   "metadata": {},
   "outputs": [],
   "source": []
  }
 ],
 "metadata": {
  "kernelspec": {
   "display_name": "Python 3 (ipykernel)",
   "language": "python",
   "name": "python3"
  },
  "language_info": {
   "codemirror_mode": {
    "name": "ipython",
    "version": 3
   },
   "file_extension": ".py",
   "mimetype": "text/x-python",
   "name": "python",
   "nbconvert_exporter": "python",
   "pygments_lexer": "ipython3",
   "version": "3.9.0"
  }
 },
 "nbformat": 4,
 "nbformat_minor": 5
}
